{
 "cells": [
  {
   "cell_type": "markdown",
   "metadata": {},
   "source": [
    "# Double Hashing \n",
    "+ Hashing done twice inorder to prevent collision \n",
    "\n",
    "  h1(k)= k % 11 \n",
    "\n",
    "  h2(k)= 8 - (k % 8)\n",
    "  \n",
    "  h(k)= h1(k) + i h2(k)\n"
   ]
  },
  {
   "cell_type": "code",
   "execution_count": 6,
   "metadata": {},
   "outputs": [
    {
     "name": "stdout",
     "output_type": "stream",
     "text": [
      "[False, 34, False, False, False, False, False, False, False, 20, False]\n"
     ]
    }
   ],
   "source": [
    "num = list(map(int, input().split( )))\n",
    "hashtable = [False]*11\n",
    "def double_hashing(data):\n",
    "  h1 = data % 11\n",
    "  h2 = 8 - ( data % 8)\n",
    "  i =0\n",
    "  h = (h1 + (i * h2)) % 11\n",
    "  if hashtable[h] == False :\n",
    "    hashtable[h]= data\n",
    "  elif hashtable[h]!=False:\n",
    "    while hashtable[h]!=False:\n",
    "      i+=1\n",
    "      h = h1 + i * h2\n",
    "      if hashtable[h]!=False:\n",
    "        pass\n",
    "      else:\n",
    "        hashtable[h]=data\n",
    "        break\n",
    "  else:\n",
    "    print(\"no space in hashtable of range (10)\")\n",
    "\n",
    "for i in num:\n",
    "  double_hashing(i)\n",
    "print(hashtable)\n"
   ]
  }
 ],
 "metadata": {
  "kernelspec": {
   "display_name": "Python 3",
   "language": "python",
   "name": "python3"
  },
  "language_info": {
   "codemirror_mode": {
    "name": "ipython",
    "version": 3
   },
   "file_extension": ".py",
   "mimetype": "text/x-python",
   "name": "python",
   "nbconvert_exporter": "python",
   "pygments_lexer": "ipython3",
   "version": "3.12.0"
  }
 },
 "nbformat": 4,
 "nbformat_minor": 2
}

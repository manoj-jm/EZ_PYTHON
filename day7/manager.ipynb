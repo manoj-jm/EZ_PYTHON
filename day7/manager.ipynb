{
 "cells": [
  {
   "cell_type": "code",
   "execution_count": 3,
   "metadata": {},
   "outputs": [
    {
     "name": "stdout",
     "output_type": "stream",
     "text": [
      "[5, 14, 14, 19, 7, 7, 9, 19, 6, 9, 19, 19, -1, 5, -1, -1]\n"
     ]
    }
   ],
   "source": [
    "project_m = [3,5,2,14,5,3,7,9,4,6,9,4,19,2,5,3]\n",
    "# stack = []\n",
    "supervisor = []\n",
    "top = 0\n",
    "for i in range(len(project_m)-1):\n",
    "  cnt = 0\n",
    "  for j in range(i+1,len(project_m)):\n",
    "    if project_m[i]<project_m[j]:\n",
    "      cnt+=1\n",
    "      supervisor.append(project_m[j])\n",
    "      break\n",
    "  if cnt ==0 :\n",
    "    supervisor.append(-1)\n",
    "supervisor.append(-1)\n",
    "\n",
    "print(supervisor) "
   ]
  },
  {
   "cell_type": "markdown",
   "metadata": {},
   "source": [
    "Using Stack , implementing the above problem "
   ]
  },
  {
   "cell_type": "code",
   "execution_count": 6,
   "metadata": {},
   "outputs": [
    {
     "name": "stdout",
     "output_type": "stream",
     "text": [
      "[5, 14, 14, 19, 7, 7, 9, 19, 6, 9, 19, 19, -1, 5, -1, -1]\n"
     ]
    }
   ],
   "source": [
    "inp = [3,5,2,14,5,3,7,9,4,6,9,4,19,2,5,3]\n",
    "out = [-1] * len(inp)\n",
    "stack = []\n",
    "for i in range(len(inp)-1,-1,-1):\n",
    "  while stack and stack[-1] <=inp[i]:\n",
    "    stack.pop()\n",
    "  if stack:\n",
    "    out[i] = stack[-1]\n",
    "  else:\n",
    "    out[i] = -1\n",
    "  stack.append(inp[i])\n",
    "print(out)"
   ]
  }
 ],
 "metadata": {
  "kernelspec": {
   "display_name": "Python 3",
   "language": "python",
   "name": "python3"
  },
  "language_info": {
   "codemirror_mode": {
    "name": "ipython",
    "version": 3
   },
   "file_extension": ".py",
   "mimetype": "text/x-python",
   "name": "python",
   "nbconvert_exporter": "python",
   "pygments_lexer": "ipython3",
   "version": "3.12.0"
  }
 },
 "nbformat": 4,
 "nbformat_minor": 2
}

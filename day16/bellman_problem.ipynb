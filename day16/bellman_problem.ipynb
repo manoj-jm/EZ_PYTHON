{
 "cells": [
  {
   "cell_type": "code",
   "execution_count": 3,
   "metadata": {},
   "outputs": [
    {
     "name": "stdout",
     "output_type": "stream",
     "text": [
      "{'A': 0, 'B': 1, 'C': 3, 'D': 5, 'E': 0, 'F': 3}\n"
     ]
    }
   ],
   "source": [
    "# bellmanford is only apply to directed graph\n",
    "# sortest distance from single source\n",
    "def bellmanford(v,e):\n",
    "    a='ABCDEF'\n",
    "    l={}\n",
    "    d=l.fromkeys(a,float('inf'))\n",
    "    d['A']=0\n",
    "    for _ in range(v-1):\n",
    "      for u,v,w in e:\n",
    "         if d[u]+w<d[v]:\n",
    "            d[v]=d[u]+w\n",
    "    return d\n",
    "\n",
    "\n",
    "if __name__ == \"__main__\":\n",
    "    V = 6\n",
    "    S = 0\n",
    "    edges = [\n",
    "        ('A','B',6),\n",
    "        ('A','C',4),\n",
    "        ('A','D',5),\n",
    "        ('B','E',-1),\n",
    "        ('C','B',-2),\n",
    "        ('C','E',3),\n",
    "        ('D','C',-2),\n",
    "        ('D','F',-1),\n",
    "        ('E','F',3)\n",
    "    ]\n",
    "    d=bellmanford(V,edges)\n",
    "    #print(\" \".join(map(str,d)))\n",
    "    print(d)"
   ]
  },
  {
   "cell_type": "markdown",
   "metadata": {},
   "source": [
    "using adjacency matrix"
   ]
  },
  {
   "cell_type": "code",
   "execution_count": 1,
   "metadata": {},
   "outputs": [
    {
     "name": "stdout",
     "output_type": "stream",
     "text": [
      "{'A': 0, 'B': 1, 'C': 3, 'D': 5, 'E': 0, 'F': 3}\n"
     ]
    }
   ],
   "source": [
    "g = [\n",
    "  [0,6,4,5,False,False],\n",
    "  [False,0,False,False,-1,False],\n",
    "  [False,-2,0,False,3,False],\n",
    "  [False,False,-2,0,False,-1],\n",
    "  [False,False,False,False,0,3],\n",
    "  [False,False,False,False,False,0],\n",
    "]\n",
    "nodes = ['A','B','C','D','E','F']\n",
    "node_ind = {nodes[i] :i for i in range(len(nodes))}\n",
    "\n",
    "edg_list = []\n",
    "for i in range(len(g)):\n",
    "  for j in range(len(g[i])):\n",
    "    if g[i][j] != False and g[i][j] !=0:\n",
    "      edg_list.append((nodes[i],nodes[j]))\n",
    "# print(edg_list)\n",
    "\n",
    "d = {node: float('inf') for node in nodes}\n",
    "d['A']=0\n",
    "\n",
    "for i in range(len(g) -1 ):\n",
    "  for u,v in edg_list:\n",
    "    u_ind = node_ind[u]\n",
    "    v_ind = node_ind[v]\n",
    "    nd = d[u] + g[u_ind][v_ind]\n",
    "    if d[v] > nd:\n",
    "      d[v]= nd\n",
    "\n",
    "print(d)\n",
    "\n"
   ]
  },
  {
   "cell_type": "code",
   "execution_count": null,
   "metadata": {},
   "outputs": [],
   "source": []
  }
 ],
 "metadata": {
  "kernelspec": {
   "display_name": "Python 3",
   "language": "python",
   "name": "python3"
  },
  "language_info": {
   "codemirror_mode": {
    "name": "ipython",
    "version": 3
   },
   "file_extension": ".py",
   "mimetype": "text/x-python",
   "name": "python",
   "nbconvert_exporter": "python",
   "pygments_lexer": "ipython3",
   "version": "3.12.0"
  }
 },
 "nbformat": 4,
 "nbformat_minor": 2
}

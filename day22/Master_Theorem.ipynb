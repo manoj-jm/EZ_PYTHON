{
 "cells": [
  {
   "cell_type": "markdown",
   "metadata": {},
   "source": [
    "# Master Theorem\n",
    "##### It states taht the time compaxity of any recurrance relation is given by \n",
    "    T(n)=aT(h/b)+f(n)\n",
    "\n",
    "    where a>=1 f(n)=teta(n^k log(n))\n",
    "          b>1\n",
    "          \n",
    " what is recurrance relation ?\n",
    "+ In a relation if we are using recurssion like function calling then that relations is called recurrance relations"
   ]
  }
 ],
 "metadata": {
  "language_info": {
   "name": "python"
  }
 },
 "nbformat": 4,
 "nbformat_minor": 2
}

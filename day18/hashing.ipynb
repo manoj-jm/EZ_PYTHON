{
 "cells": [
  {
   "cell_type": "code",
   "execution_count": null,
   "metadata": {},
   "outputs": [],
   "source": []
  },
  {
   "cell_type": "markdown",
   "metadata": {},
   "source": [
    "# hashing "
   ]
  },
  {
   "cell_type": "code",
   "execution_count": 10,
   "metadata": {},
   "outputs": [
    {
     "name": "stdout",
     "output_type": "stream",
     "text": [
      "True\n",
      "True\n",
      "False\n",
      "False\n"
     ]
    }
   ],
   "source": [
    "class Node:\n",
    "    def __init__(self, ele):\n",
    "        self.data = ele\n",
    "        self.next = None\n",
    "\n",
    "class LinkedList:\n",
    "    def __init__(self):\n",
    "        self.head = None\n",
    "\n",
    "    def insert(self, data):\n",
    "        new_node = Node(data)\n",
    "        if self.head is None:\n",
    "            self.head = new_node\n",
    "        else:\n",
    "            cur = self.head\n",
    "            while cur.next:\n",
    "                cur = cur.next\n",
    "            cur.next = new_node\n",
    "\n",
    "    def search(self, ele):\n",
    "        cur = self.head\n",
    "        while cur:\n",
    "            if cur.data == ele:\n",
    "                return True\n",
    "            cur = cur.next\n",
    "        return False\n",
    "\n",
    "    def delete(self, ele):\n",
    "        if self.head is None:\n",
    "            return\n",
    "\n",
    "        if self.head.data == ele:\n",
    "            self.head = self.head.next\n",
    "            return\n",
    "\n",
    "        cur = self.head\n",
    "        while cur.next:\n",
    "            if cur.next.data == ele:\n",
    "                cur.next = cur.next.next\n",
    "                return\n",
    "            cur = cur.next\n",
    "\n",
    "class HashTable:\n",
    "    def __init__(self):\n",
    "        self.table = [LinkedList() for _ in range(10)]\n",
    "\n",
    "    def hash_function(self, key):\n",
    "        return key % 10\n",
    "\n",
    "    def insert(self, key):\n",
    "        index = self.hash_function(key)\n",
    "        self.table[index].insert(key)\n",
    "\n",
    "    def search(self, key):\n",
    "        index = self.hash_function(key)\n",
    "        return self.table[index].search(key)\n",
    "\n",
    "    def delete(self, key):\n",
    "        index = self.hash_function(key)\n",
    "        self.table[index].delete(key)\n",
    "\n",
    "# Example usage\n",
    "hash_table = HashTable()\n",
    "hash_table.insert(10)\n",
    "hash_table.insert(20)\n",
    "hash_table.insert(25)\n",
    "\n",
    "print(hash_table.search(10))  # Output: True\n",
    "print(hash_table.search(20))  # Output: True \n",
    "print(hash_table.search(30))  # Output: False\n",
    "\n",
    "hash_table.delete(20)\n",
    "print(hash_table.search(20))  # Output: False\n"
   ]
  },
  {
   "cell_type": "markdown",
   "metadata": {},
   "source": [
    "# linear probing \n",
    "\n",
    "23,10,47,42,56,100,50,92,93\n",
    "\n",
    "h(k)= k % n\n",
    "\n",
    "collision \n",
    "\n",
    "h'(k)=(h(k)+i) % n"
   ]
  },
  {
   "cell_type": "code",
   "execution_count": 3,
   "metadata": {},
   "outputs": [
    {
     "name": "stdout",
     "output_type": "stream",
     "text": [
      "Unable to insert 100. The hash table is full.\n",
      "[10, 81, 12, 42, 42, 91, 32, 97, 88, 19]\n"
     ]
    }
   ],
   "source": [
    "def hash_func(data, n):\n",
    "    return data % n\n",
    "\n",
    "def hash__func(data, i, n):\n",
    "    return (data + i) % n\n",
    "\n",
    "# Initialize the hash table with None\n",
    "hash_table = [None] * 10\n",
    "\n",
    "# Input data\n",
    "inp = [12, 42, 42, 81, 91, 10, 19, 32,88,97,100]\n",
    "n = len(hash_table)  # Size of the hash table\n",
    "\n",
    "# Insert elements using linear probing\n",
    "for data in inp:\n",
    "    key = hash_func(data, n)\n",
    "    if hash_table[key] is None:\n",
    "        hash_table[key] = data\n",
    "    else:\n",
    "        j = 1\n",
    "        new_key = hash__func(data, j, n)\n",
    "        while hash_table[new_key] is not None and j < n:\n",
    "            j += 1\n",
    "            new_key = hash__func(data, j, n)\n",
    "        if j < n:\n",
    "            hash_table[new_key] = data\n",
    "        else:\n",
    "            print(f\"Unable to insert {data}. The hash table is full.\")\n",
    "\n",
    "print(hash_table)\n"
   ]
  },
  {
   "cell_type": "markdown",
   "metadata": {},
   "source": [
    "# quadratic "
   ]
  },
  {
   "cell_type": "code",
   "execution_count": 4,
   "metadata": {},
   "outputs": [
    {
     "name": "stdout",
     "output_type": "stream",
     "text": [
      "Unable to insert 97. The hash table is full.\n",
      "[10, 81, 12, 42, 100, 91, 42, 88, 32, 19]\n"
     ]
    }
   ],
   "source": [
    "def hash_func(data, n):\n",
    "    return data % n\n",
    "\n",
    "def hash__func(data, i, n):\n",
    "    return (data + (i**2)) % n\n",
    "\n",
    "# Initialize the hash table with None\n",
    "hash_table = [None] * 10\n",
    "\n",
    "# Input data\n",
    "inp = [12, 42, 42, 81, 91, 10, 19, 32,88,97,100]\n",
    "n = len(hash_table)  # Size of the hash table\n",
    "\n",
    "# Insert elements using linear probing\n",
    "for data in inp:\n",
    "    key = hash_func(data, n)\n",
    "    if hash_table[key] is None:\n",
    "        hash_table[key] = data\n",
    "    else:\n",
    "        j = 1\n",
    "        new_key = hash__func(data, j, n)\n",
    "        while hash_table[new_key] is not None and j < n:\n",
    "            j += 1\n",
    "            new_key = hash__func(data, j, n)\n",
    "        if j < n:\n",
    "            hash_table[new_key] = data\n",
    "        else:\n",
    "            print(f\"Unable to insert {data}. The hash table is full.\")\n",
    "\n",
    "print(hash_table)\n"
   ]
  }
 ],
 "metadata": {
  "kernelspec": {
   "display_name": "Python 3",
   "language": "python",
   "name": "python3"
  },
  "language_info": {
   "codemirror_mode": {
    "name": "ipython",
    "version": 3
   },
   "file_extension": ".py",
   "mimetype": "text/x-python",
   "name": "python",
   "nbconvert_exporter": "python",
   "pygments_lexer": "ipython3",
   "version": "3.12.0"
  }
 },
 "nbformat": 4,
 "nbformat_minor": 2
}

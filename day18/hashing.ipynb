{
 "cells": [
  {
   "cell_type": "code",
   "execution_count": null,
   "metadata": {},
   "outputs": [],
   "source": []
  },
  {
   "cell_type": "markdown",
   "metadata": {},
   "source": [
    "# hashing "
   ]
  },
  {
   "cell_type": "code",
   "execution_count": 9,
   "metadata": {},
   "outputs": [
    {
     "name": "stdout",
     "output_type": "stream",
     "text": [
      "True\n",
      "False\n",
      "False\n"
     ]
    }
   ],
   "source": [
    "class Node:\n",
    "    def __init__(self, ele):\n",
    "        self.data = ele\n",
    "        self.next = None\n",
    "\n",
    "class LinkedList:\n",
    "    def __init__(self):\n",
    "        self.head = None\n",
    "\n",
    "    def insert(self, data):\n",
    "        new_node = Node(data)\n",
    "        if self.head is None:\n",
    "            self.head = new_node\n",
    "        else:\n",
    "            cur = self.head\n",
    "            while cur.next:\n",
    "                cur = cur.next\n",
    "            cur.next = new_node\n",
    "\n",
    "    def search(self, ele):\n",
    "        cur = self.head\n",
    "        while cur:\n",
    "            if cur.data == ele:\n",
    "                return True\n",
    "            cur = cur.next\n",
    "        return False\n",
    "\n",
    "    def delete(self, ele):\n",
    "        if self.head is None:\n",
    "            return\n",
    "\n",
    "        if self.head.data == ele:\n",
    "            self.head = self.head.next\n",
    "            return\n",
    "\n",
    "        cur = self.head\n",
    "        while cur.next:\n",
    "            if cur.next.data == ele:\n",
    "                cur.next = cur.next.next\n",
    "                return\n",
    "            cur = cur.next\n",
    "\n",
    "class HashTable:\n",
    "    def __init__(self):\n",
    "        self.table = [LinkedList() for _ in range(10)]\n",
    "\n",
    "    def hash_function(self, key):\n",
    "        return key % 10\n",
    "\n",
    "    def insert(self, key):\n",
    "        index = self.hash_function(key)\n",
    "        self.table[index].insert(key)\n",
    "\n",
    "    def search(self, key):\n",
    "        index = self.hash_function(key)\n",
    "        return self.table[index].search(key)\n",
    "\n",
    "    def delete(self, key):\n",
    "        index = self.hash_function(key)\n",
    "        self.table[index].delete(key)\n",
    "\n",
    "# Example usage\n",
    "hash_table = HashTable()\n",
    "hash_table.insert(10)\n",
    "hash_table.insert(20)\n",
    "hash_table.insert(25)\n",
    "\n",
    "print(hash_table.search(10))  # Output: True\n",
    "print(hash_table.search(30))  # Output: False\n",
    "\n",
    "hash_table.delete(20)\n",
    "print(hash_table.search(20))  # Output: False\n"
   ]
  }
 ],
 "metadata": {
  "kernelspec": {
   "display_name": "Python 3",
   "language": "python",
   "name": "python3"
  },
  "language_info": {
   "codemirror_mode": {
    "name": "ipython",
    "version": 3
   },
   "file_extension": ".py",
   "mimetype": "text/x-python",
   "name": "python",
   "nbconvert_exporter": "python",
   "pygments_lexer": "ipython3",
   "version": "3.12.0"
  }
 },
 "nbformat": 4,
 "nbformat_minor": 2
}

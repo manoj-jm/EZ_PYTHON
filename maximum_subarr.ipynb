{
 "cells": [
  {
   "cell_type": "markdown",
   "metadata": {},
   "source": [
    "# kadane's algorithm "
   ]
  },
  {
   "cell_type": "code",
   "execution_count": null,
   "metadata": {},
   "outputs": [],
   "source": [
    "arr = [-1, 4, -6, 7, 4, 9, -4, 98]\n",
    "s = 0\n",
    "maxsum = arr[0]  # Initialize to the first element to handle all negative arrays\n",
    "\n",
    "for i in range(len(arr)):\n",
    "    s = s + arr[i]\n",
    "    if s < 0:\n",
    "        s = 0\n",
    "    maxsum = max(maxsum, s)\n",
    "\n",
    "print(\"Maximum contiguous subarray sum is:\", maxsum)\n"
   ]
  },
  {
   "cell_type": "markdown",
   "metadata": {},
   "source": [
    "# maximum circular subarr"
   ]
  },
  {
   "cell_type": "code",
   "execution_count": null,
   "metadata": {},
   "outputs": [],
   "source": []
  }
 ],
 "metadata": {
  "language_info": {
   "name": "python"
  }
 },
 "nbformat": 4,
 "nbformat_minor": 2
}

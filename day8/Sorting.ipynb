{
 "cells": [
  {
   "cell_type": "markdown",
   "metadata": {},
   "source": [
    " Sorting : arranging the elements in given order"
   ]
  },
  {
   "cell_type": "code",
   "execution_count": 9,
   "metadata": {},
   "outputs": [
    {
     "name": "stdout",
     "output_type": "stream",
     "text": [
      "[9, 12, 13, 28, 42, 49, 82]\n"
     ]
    }
   ],
   "source": [
    "#bubble sort\n",
    "\n",
    "list = [12,42,13,82,9,28,49]\n",
    "\n",
    "for j in range(0,len(list)):\n",
    "  for i in range(len(list)-j-1):\n",
    "    if list[i]>list[i+1]:\n",
    "      list[i],list[i+1] = list[i+1], list[i]\n",
    "\n",
    "print(list)\n",
    "\n",
    "\n"
   ]
  },
  {
   "cell_type": "code",
   "execution_count": 12,
   "metadata": {},
   "outputs": [
    {
     "name": "stdout",
     "output_type": "stream",
     "text": [
      "minimum element in list is 9\n"
     ]
    }
   ],
   "source": [
    "# search \n",
    "list = [12,42,13,82,9,28,49]\n",
    "min = list[0]\n",
    "target = 42\n",
    "flag = False\n",
    "for i in range(0,len(list)):\n",
    "  if list[i] <= min:\n",
    "    min = list[i]\n",
    "\n",
    "print(f'minimum element in list is {min}')\n"
   ]
  },
  {
   "cell_type": "markdown",
   "metadata": {},
   "source": [
    "Selection sort : find minimum and put at start"
   ]
  },
  {
   "cell_type": "code",
   "execution_count": 18,
   "metadata": {},
   "outputs": [
    {
     "name": "stdout",
     "output_type": "stream",
     "text": [
      "[9, 12, 13, 28, 42, 49, 82]\n"
     ]
    }
   ],
   "source": [
    "list = [12,42,13,82,9,28,49]\n",
    "\n",
    "def selection_sort(list):\n",
    "  n = len(list)\n",
    "  for i in range(0,n-1):\n",
    "    min = i\n",
    "    for j in range(i+1,n):\n",
    "      if list[j]<list[min]:\n",
    "        min = j\n",
    "    \n",
    "    list[i] ,list[min] = list[min],list[i]\n",
    "\n",
    "selection_sort(list)\n",
    "print(list)"
   ]
  },
  {
   "cell_type": "markdown",
   "metadata": {},
   "source": [
    "Insertion sort"
   ]
  },
  {
   "cell_type": "code",
   "execution_count": 1,
   "metadata": {},
   "outputs": [
    {
     "name": "stdout",
     "output_type": "stream",
     "text": [
      "[9, 12, 13, 28, 42, 49, 82]\n"
     ]
    }
   ],
   "source": [
    "list = [12,42,13,82,9,28,49]\n",
    "n = len(list)\n",
    "for i in range(1,n):\n",
    "  x =  list[i]\n",
    "  j = i -1\n",
    "  while j >= 0 and list[j] > x:\n",
    "    list[j+1] = list[j]\n",
    "    j-=1\n",
    "  list[j+1] = x\n",
    "  \n",
    "print(list)\n",
    "     \n",
    "\n",
    "#practice make me perfect"
   ]
  },
  {
   "cell_type": "markdown",
   "metadata": {},
   "source": [
    "Recursion"
   ]
  },
  {
   "cell_type": "code",
   "execution_count": 4,
   "metadata": {},
   "outputs": [
    {
     "name": "stdout",
     "output_type": "stream",
     "text": [
      "8\n"
     ]
    }
   ],
   "source": [
    "# 0 1 1 2 3 5 8\n",
    "# 0 1 2 3 4 5 6th position\n",
    "def fib(n):\n",
    "  if n==0 or n== 1:\n",
    "    return n\n",
    "  else:\n",
    "    return fib(n-1) + fib(n-2)\n",
    "\n",
    "if __name__ == \"__main__\":\n",
    "  n = int(input(\"enter the number \"))\n",
    "  res = fib(n)\n",
    "  print(res)"
   ]
  },
  {
   "cell_type": "markdown",
   "metadata": {},
   "source": [
    "Quick Sort \n"
   ]
  },
  {
   "cell_type": "code",
   "execution_count": 5,
   "metadata": {},
   "outputs": [
    {
     "name": "stdout",
     "output_type": "stream",
     "text": [
      "Sorted array: [3, 5, 11, 12, 22, 25, 34, 64, 90]\n"
     ]
    }
   ],
   "source": [
    "def partition(array, low, high):\n",
    "    pivot = array[high]\n",
    "    i = low - 1\n",
    "\n",
    "    for j in range(low, high):\n",
    "        if array[j] <= pivot:\n",
    "            i += 1\n",
    "            array[i], array[j] = array[j], array[i]\n",
    "\n",
    "    array[i+1], array[high] = array[high], array[i+1]\n",
    "    return i+1\n",
    "\n",
    "def quicksort(array, low=0, high=None):\n",
    "    if high==None:\n",
    "        high = len(array) - 1\n",
    "\n",
    "    if low < high:\n",
    "        pivot_index = partition(array, low, high)\n",
    "        quicksort(array, low, pivot_index-1)\n",
    "        quicksort(array, pivot_index+1, high)\n",
    "\n",
    "my_array = [64,3, 34, 25, 12, 22, 11, 90, 5]\n",
    "# [ 3,5,64,34,25,12,22,11,90]\n",
    "quicksort(my_array)\n",
    "print(\"Sorted array:\", my_array)\n"
   ]
  },
  {
   "cell_type": "markdown",
   "metadata": {},
   "source": [
    "Merge Sort\n"
   ]
  },
  {
   "cell_type": "code",
   "execution_count": 1,
   "metadata": {},
   "outputs": [],
   "source": [
    "def mergeSort(arr):\n",
    "    if len(arr) <= 1:\n",
    "        return arr\n",
    "\n",
    "    mid = len(arr) // 2\n",
    "    leftHalf = arr[:mid]\n",
    "    rightHalf = arr[mid:]\n",
    "\n",
    "    sortedLeft = mergeSort(leftHalf)\n",
    "    sortedRight = mergeSort(rightHalf)\n",
    "\n",
    "    return merge(sortedLeft, sortedRight)\n",
    "\n",
    "def merge(left, right):\n",
    "    result = []\n",
    "    i = j = 0\n",
    "\n",
    "    while i < len(left) and j < len(right):\n",
    "        if left[i] < right[j]:\n",
    "            result.append(left[i])\n",
    "            i += 1\n",
    "        else:\n",
    "            result.append(right[j])\n",
    "            j += 1\n",
    "\n",
    "    #remaining elements\n",
    "    result.extend(left[i:])\n",
    "    result.extend(right[j:])\n",
    "\n",
    "    return result\n",
    "\n",
    "unsortedArr = [3, 7, 6, -10, 15, 23.5, 55, -13]\n",
    "sortedArr = mergeSort(unsortedArr)\n",
    "print(\"Sorted array:\", sortedArr)"
   ]
  }
 ],
 "metadata": {
  "kernelspec": {
   "display_name": "Python 3",
   "language": "python",
   "name": "python3"
  },
  "language_info": {
   "codemirror_mode": {
    "name": "ipython",
    "version": 3
   },
   "file_extension": ".py",
   "mimetype": "text/x-python",
   "name": "python",
   "nbconvert_exporter": "python",
   "pygments_lexer": "ipython3",
   "version": "3.12.0"
  }
 },
 "nbformat": 4,
 "nbformat_minor": 2
}
